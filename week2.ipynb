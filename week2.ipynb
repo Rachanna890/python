{
  "nbformat": 4,
  "nbformat_minor": 0,
  "metadata": {
    "colab": {
      "provenance": [],
      "authorship_tag": "ABX9TyOpGVm0hIyJC01jrozBABKj",
      "include_colab_link": true
    },
    "kernelspec": {
      "name": "python3",
      "display_name": "Python 3"
    },
    "language_info": {
      "name": "python"
    }
  },
  "cells": [
    {
      "cell_type": "markdown",
      "metadata": {
        "id": "view-in-github",
        "colab_type": "text"
      },
      "source": [
        "<a href=\"https://colab.research.google.com/github/Rachanna890/python/blob/main/week2.ipynb\" target=\"_parent\"><img src=\"https://colab.research.google.com/assets/colab-badge.svg\" alt=\"Open In Colab\"/></a>"
      ]
    },
    {
      "cell_type": "markdown",
      "source": [
        "bitwise\n",
        " operators"
      ],
      "metadata": {
        "id": "5sUmni5ZE-GG"
      }
    },
    {
      "cell_type": "code",
      "execution_count": null,
      "metadata": {
        "id": "AWCnrw27ExhC",
        "colab": {
          "base_uri": "https://localhost:8080/"
        },
        "outputId": "39ca4877-7d75-4328-db8a-34725e06e1b1"
      },
      "outputs": [
        {
          "output_type": "stream",
          "name": "stdout",
          "text": [
            "8\n",
            "14\n"
          ]
        }
      ],
      "source": [
        "# bit wise and\n",
        "print(8 &12)\n",
        "print(0Xf & 0Xe)"
      ]
    },
    {
      "cell_type": "code",
      "source": [
        "  # bit wise or\n",
        "print(8 |12)\n",
        "print(0Xf | 0Xe)"
      ],
      "metadata": {
        "colab": {
          "base_uri": "https://localhost:8080/"
        },
        "id": "XCarPhAwE8ik",
        "outputId": "32932ac5-6d4a-45bf-ce4e-5cddfe14e3d9"
      },
      "execution_count": null,
      "outputs": [
        {
          "output_type": "stream",
          "name": "stdout",
          "text": [
            "12\n",
            "15\n"
          ]
        }
      ]
    },
    {
      "cell_type": "code",
      "source": [
        "# bit wise xor\n",
        "print(8^12)\n",
        "print(0Xf^ 0Xe)"
      ],
      "metadata": {
        "colab": {
          "base_uri": "https://localhost:8080/"
        },
        "id": "Uuv3vFivHzdd",
        "outputId": "90bc03ca-19e8-42b3-c7c0-e986b31a7b7a"
      },
      "execution_count": null,
      "outputs": [
        {
          "output_type": "stream",
          "name": "stdout",
          "text": [
            "4\n",
            "1\n"
          ]
        }
      ]
    },
    {
      "cell_type": "code",
      "source": [
        " #bit wise not\n",
        "print(~8)"
      ],
      "metadata": {
        "colab": {
          "base_uri": "https://localhost:8080/"
        },
        "id": "owCwds1WH_VW",
        "outputId": "5e1f5c98-dc83-4457-e444-d6af717a67a7"
      },
      "execution_count": null,
      "outputs": [
        {
          "output_type": "stream",
          "name": "stdout",
          "text": [
            "-9\n"
          ]
        }
      ]
    },
    {
      "cell_type": "code",
      "source": [],
      "metadata": {
        "id": "Aexe4x6hJFa2"
      },
      "execution_count": null,
      "outputs": []
    },
    {
      "cell_type": "markdown",
      "source": [
        "assignment operators"
      ],
      "metadata": {
        "id": "6-7v2zWeJqhG"
      }
    },
    {
      "cell_type": "code",
      "source": [
        "a=2\n",
        "print(a)\n",
        "a+=2\n",
        "print(a)\n",
        "a-=2\n",
        "print(a)\n",
        "a*=2\n",
        "print(a)\n",
        "a/=1\n",
        "print(a)\n",
        "a//=1\n",
        "print(a)\n",
        "a%=3\n",
        "print(a)"
      ],
      "metadata": {
        "colab": {
          "base_uri": "https://localhost:8080/"
        },
        "id": "b71nbGVqJvmY",
        "outputId": "77ae4ae3-9c1a-4e61-9228-674b94fe07b7"
      },
      "execution_count": null,
      "outputs": [
        {
          "output_type": "stream",
          "name": "stdout",
          "text": [
            "2\n",
            "4\n",
            "2\n",
            "4\n",
            "4.0\n",
            "4.0\n",
            "1.0\n"
          ]
        }
      ]
    },
    {
      "cell_type": "markdown",
      "source": [
        "identity and membership operators"
      ],
      "metadata": {
        "id": "MhfGKsYtP3n1"
      }
    },
    {
      "cell_type": "code",
      "source": [
        "x=[\"hubli\",\"belgaum\"]\n",
        "y=[\"hubli\",\"belgaum\"]\n",
        "z=x\n",
        "z=y\n",
        "print(z is not x)\n",
        "print(y is x)\n",
        "print(y is z)\n",
        "print(\"hubli\"in x)\n",
        "print(\"rachu\"in y)"
      ],
      "metadata": {
        "colab": {
          "base_uri": "https://localhost:8080/"
        },
        "id": "IEu4j7cmOhMt",
        "outputId": "d7f9a2f5-8bed-4d49-a76d-6010ed425f79"
      },
      "execution_count": null,
      "outputs": [
        {
          "output_type": "stream",
          "name": "stdout",
          "text": [
            "True\n",
            "False\n",
            "True\n",
            "True\n",
            "False\n"
          ]
        }
      ]
    },
    {
      "cell_type": "markdown",
      "source": [
        "while loop for loop"
      ],
      "metadata": {
        "id": "JynJGjiDzl3C"
      }
    },
    {
      "cell_type": "code",
      "source": [
        " num=int(input(\"enter the number\"))\n",
        " while num<=9:\n",
        "  print(\"number is single digit\")\n",
        "  break\n",
        "  while num>9 and num<=99:\n",
        "    print(\"number is double digit\")\n",
        "  break\n",
        "else:\n",
        "    print(\"number has more than two digits\")"
      ],
      "metadata": {
        "colab": {
          "base_uri": "https://localhost:8080/"
        },
        "id": "rY0zn2j4z1_K",
        "outputId": "9db259fa-a2c5-4479-ad29-27e91173f2ac"
      },
      "execution_count": null,
      "outputs": [
        {
          "output_type": "stream",
          "name": "stdout",
          "text": [
            "enter the number999\n",
            "number has more than two digits\n"
          ]
        }
      ]
    },
    {
      "cell_type": "code",
      "source": [],
      "metadata": {
        "id": "m8APDaf11iZs"
      },
      "execution_count": null,
      "outputs": []
    },
    {
      "cell_type": "markdown",
      "source": [
        "for loop"
      ],
      "metadata": {
        "id": "OJDQr_A75gXk"
      }
    },
    {
      "cell_type": "code",
      "source": [
        "for x in range(5):\n",
        " print(x)"
      ],
      "metadata": {
        "colab": {
          "base_uri": "https://localhost:8080/"
        },
        "id": "f0engqhr5hbw",
        "outputId": "470c847b-711e-4876-a047-4f8e44c086df"
      },
      "execution_count": null,
      "outputs": [
        {
          "output_type": "stream",
          "name": "stdout",
          "text": [
            "0\n",
            "1\n",
            "2\n",
            "3\n",
            "4\n"
          ]
        }
      ]
    },
    {
      "cell_type": "code",
      "source": [
        "for x in range(1,6):\n",
        " print(x)"
      ],
      "metadata": {
        "colab": {
          "base_uri": "https://localhost:8080/"
        },
        "id": "TU85qYRB6nGs",
        "outputId": "f93c0410-5770-4817-871b-d734fc336d41"
      },
      "execution_count": null,
      "outputs": [
        {
          "output_type": "stream",
          "name": "stdout",
          "text": [
            "1\n",
            "2\n",
            "3\n",
            "4\n",
            "5\n"
          ]
        }
      ]
    },
    {
      "cell_type": "code",
      "source": [
        "for x in range(1,10,2):\n",
        " print(x)"
      ],
      "metadata": {
        "colab": {
          "base_uri": "https://localhost:8080/"
        },
        "id": "iQhRVAcD60tT",
        "outputId": "3aaa44d4-17c4-4d12-8532-45a1e2688554"
      },
      "execution_count": null,
      "outputs": [
        {
          "output_type": "stream",
          "name": "stdout",
          "text": [
            "1\n",
            "3\n",
            "5\n",
            "7\n",
            "9\n"
          ]
        }
      ]
    },
    {
      "cell_type": "code",
      "source": [
        "for x in range(6,9):\n",
        " print(\"single digit number\")\n",
        "for x in range(0,99,10):\n",
        "   print(\"double digit number\")\n",
        "\n"
      ],
      "metadata": {
        "colab": {
          "base_uri": "https://localhost:8080/"
        },
        "id": "cblCivb365A4",
        "outputId": "86ad8d48-a429-4ec1-e791-8b36f597ec64"
      },
      "execution_count": null,
      "outputs": [
        {
          "output_type": "stream",
          "name": "stdout",
          "text": [
            "single digit number\n",
            "single digit number\n",
            "single digit number\n",
            "double digit number\n",
            "double digit number\n",
            "double digit number\n",
            "double digit number\n",
            "double digit number\n",
            "double digit number\n",
            "double digit number\n",
            "double digit number\n",
            "double digit number\n",
            "double digit number\n"
          ]
        }
      ]
    },
    {
      "cell_type": "code",
      "source": [
        "places=[\"hubli\",\"haveri\",\"belgaum\",\"banglore\"]\n",
        "for x in places:\n",
        "  print(x)\n",
        "  if x==\"hubli\":\n",
        "    print(\"found\")\n",
        "    break"
      ],
      "metadata": {
        "colab": {
          "base_uri": "https://localhost:8080/"
        },
        "id": "3HWjD6Lh7SU0",
        "outputId": "1d083d37-9771-4253-ec4d-1b064be99708"
      },
      "execution_count": null,
      "outputs": [
        {
          "output_type": "stream",
          "name": "stdout",
          "text": [
            "hubli\n",
            "found\n"
          ]
        }
      ]
    },
    {
      "cell_type": "markdown",
      "source": [
        "functions\n",
        "1. define the function\n",
        "2. invoking the function\n",
        "3. passing the arguments"
      ],
      "metadata": {
        "id": "NL1GGaQZK2XU"
      }
    },
    {
      "cell_type": "code",
      "source": [
        "def detailes(n,a,g):\n",
        "  print(\"name is: \",n)\n",
        "  print(\"age is: \",a)\n",
        "  print(\"gender is: \",g)\n",
        "\n",
        "detailes(\"rachu\",\"20\",\"male\")\n",
        "\n",
        "\n",
        "detailes(\"shivkumar\",\"23\",\"male\")\n",
        "\n"
      ],
      "metadata": {
        "colab": {
          "base_uri": "https://localhost:8080/"
        },
        "id": "4fZBwhN_9Fbf",
        "outputId": "ab22243c-8739-404b-d20b-a0cfeec9d7b4"
      },
      "execution_count": null,
      "outputs": [
        {
          "output_type": "stream",
          "name": "stdout",
          "text": [
            "name is:  rachu\n",
            "age is:  20\n",
            "gender is:  male\n",
            "name is:  shivkumar\n",
            "age is:  23\n",
            "gender is:  male\n"
          ]
        }
      ]
    },
    {
      "cell_type": "code",
      "source": [],
      "metadata": {
        "id": "8PQW1fgKLIbb"
      },
      "execution_count": null,
      "outputs": []
    },
    {
      "cell_type": "markdown",
      "source": [
        "concept of args"
      ],
      "metadata": {
        "id": "7iKrdaVzVM8r"
      }
    },
    {
      "cell_type": "code",
      "source": [
        "def add(*bunch):\n",
        "  sum=1\n",
        "  for i in bunch:\n",
        "    sum+=i\n",
        "  return sum\n",
        "print(add(2,3,4,5,1))\n"
      ],
      "metadata": {
        "colab": {
          "base_uri": "https://localhost:8080/"
        },
        "id": "RVs4FGtnVPCP",
        "outputId": "8dd4cc92-48d7-4365-80b9-a5f3383cc2f9"
      },
      "execution_count": null,
      "outputs": [
        {
          "output_type": "stream",
          "name": "stdout",
          "text": [
            "16\n"
          ]
        }
      ]
    },
    {
      "cell_type": "code",
      "source": [],
      "metadata": {
        "id": "5NxwRJfhVkUw"
      },
      "execution_count": null,
      "outputs": []
    },
    {
      "cell_type": "markdown",
      "source": [
        "concept of kwargs"
      ],
      "metadata": {
        "id": "ZY-UPfmZdunf"
      }
    },
    {
      "cell_type": "code",
      "source": [
        "def greet(**kwargs):\n",
        "\n",
        "  for key,value in kwargs.items():\n",
        "    print(value,end=\"   \")\n",
        "greet(name=\"rachu\",usn=\"01fe22bec437\",branch=\"ece\")\n"
      ],
      "metadata": {
        "colab": {
          "base_uri": "https://localhost:8080/"
        },
        "id": "0ztcd4g4dy4e",
        "outputId": "2fbeaa75-bc9b-4095-8a36-10f3832f39ed"
      },
      "execution_count": null,
      "outputs": [
        {
          "output_type": "stream",
          "name": "stdout",
          "text": [
            "rachu   01fe22bec437   ece   "
          ]
        }
      ]
    },
    {
      "cell_type": "code",
      "source": [],
      "metadata": {
        "id": "klYBWymofBVi"
      },
      "execution_count": null,
      "outputs": []
    },
    {
      "cell_type": "markdown",
      "source": [
        "bitwise left and right shift operators"
      ],
      "metadata": {
        "id": "Q1afWqOegZTH"
      }
    },
    {
      "cell_type": "code",
      "source": [
        "print(8>>1)"
      ],
      "metadata": {
        "colab": {
          "base_uri": "https://localhost:8080/"
        },
        "id": "oYcLsoXigits",
        "outputId": "a2330886-cb45-4fe3-ec68-1c314b6e9686"
      },
      "execution_count": null,
      "outputs": [
        {
          "output_type": "stream",
          "name": "stdout",
          "text": [
            "4\n"
          ]
        }
      ]
    },
    {
      "cell_type": "code",
      "source": [
        "print(8>>2)"
      ],
      "metadata": {
        "colab": {
          "base_uri": "https://localhost:8080/"
        },
        "id": "IyUhFS6lgx8E",
        "outputId": "377fa128-f098-4360-a701-ecc8ac5efe44"
      },
      "execution_count": null,
      "outputs": [
        {
          "output_type": "stream",
          "name": "stdout",
          "text": [
            "2\n"
          ]
        }
      ]
    },
    {
      "cell_type": "code",
      "source": [
        "print(8<<1)"
      ],
      "metadata": {
        "colab": {
          "base_uri": "https://localhost:8080/"
        },
        "id": "ve2Vt5OTg4Bp",
        "outputId": "ad78ddca-68e4-4d79-f578-f6182660978c"
      },
      "execution_count": null,
      "outputs": [
        {
          "output_type": "stream",
          "name": "stdout",
          "text": [
            "16\n"
          ]
        }
      ]
    },
    {
      "cell_type": "code",
      "source": [
        "print(10<<1)"
      ],
      "metadata": {
        "colab": {
          "base_uri": "https://localhost:8080/"
        },
        "id": "QNQqRYzZhcJz",
        "outputId": "235b7ba1-9ffc-4d18-8795-03265c28ed91"
      },
      "execution_count": null,
      "outputs": [
        {
          "output_type": "stream",
          "name": "stdout",
          "text": [
            "20\n"
          ]
        }
      ]
    },
    {
      "cell_type": "code",
      "source": [],
      "metadata": {
        "id": "9a02n0yTieIE"
      },
      "execution_count": null,
      "outputs": []
    },
    {
      "cell_type": "markdown",
      "source": [
        "random module"
      ],
      "metadata": {
        "id": "G9g5bGCnix0G"
      }
    },
    {
      "cell_type": "code",
      "source": [
        "import random\n",
        "x=random.randint(1,9)\n",
        "print(x)"
      ],
      "metadata": {
        "colab": {
          "base_uri": "https://localhost:8080/"
        },
        "id": "WI9Wr7j_iz4y",
        "outputId": "142aa516-4b7c-405d-f840-40f619242994"
      },
      "execution_count": null,
      "outputs": [
        {
          "output_type": "stream",
          "name": "stdout",
          "text": [
            "7\n"
          ]
        }
      ]
    },
    {
      "cell_type": "markdown",
      "source": [
        "fun game"
      ],
      "metadata": {
        "id": "SVM170O8lhC7"
      }
    },
    {
      "cell_type": "code",
      "source": [
        "import random\n",
        "computer=random.randint(1,9)\n",
        "userinput=int(input(\"enter the number between 1 to 9\\n\"))\n",
        "print(computer)\n",
        "print(userinput)\n",
        "\n",
        "if computer>userinput:\n",
        "  print(\"computer won\")\n",
        "elif computer==userinput:\n",
        "  print(\"tie\")\n",
        "else:\n",
        "\n",
        "  print(\"you won\")\n"
      ],
      "metadata": {
        "colab": {
          "base_uri": "https://localhost:8080/"
        },
        "id": "VihJmqsGkBfb",
        "outputId": "c3a3712f-a1f5-4c38-ec0d-ed34bffb3b74"
      },
      "execution_count": null,
      "outputs": [
        {
          "output_type": "stream",
          "name": "stdout",
          "text": [
            "enter the number between 1 to 9\n",
            "9\n",
            "1\n",
            "9\n",
            "you won\n"
          ]
        }
      ]
    },
    {
      "cell_type": "markdown",
      "source": [
        "game 2 rock paper scissors"
      ],
      "metadata": {
        "id": "e2kmB82spThV"
      }
    },
    {
      "cell_type": "code",
      "source": [
        "import random\n",
        "gamelist=['rock','paper','scissors']\n",
        "comp=random.choice(gamelist)\n",
        "user=input(\"enter either rock or paper or scissors\\n\")\n",
        "print(comp)\n",
        "print(user)\n",
        "\n",
        "if(comp==\"rock\" and user==\"paper\"):\n",
        "  print(\"computer won\")\n",
        "elif (comp==\"paper\" and user==\"scissors\"):\n",
        "  print(\"you won\")\n",
        "else:\n",
        "  print(\"tie\")"
      ],
      "metadata": {
        "colab": {
          "base_uri": "https://localhost:8080/"
        },
        "id": "hyyQEI-_pcxr",
        "outputId": "a99cdc7e-8673-4967-843a-90b3b82ec981"
      },
      "execution_count": null,
      "outputs": [
        {
          "output_type": "stream",
          "name": "stdout",
          "text": [
            "enter either rock or paper or scissors\n",
            "scissors\n",
            "paper\n",
            "scissors\n",
            "you won\n"
          ]
        }
      ]
    },
    {
      "cell_type": "markdown",
      "source": [
        "packages in python\n",
        "1. numpy"
      ],
      "metadata": {
        "id": "Iv3je_IVcLui"
      }
    },
    {
      "cell_type": "code",
      "source": [
        "import numpy as np"
      ],
      "metadata": {
        "id": "EDw5vPHXsgu1"
      },
      "execution_count": null,
      "outputs": []
    },
    {
      "cell_type": "code",
      "source": [
        "a=np.array([35,1,5,9,3])\n",
        "print(type(a))\n",
        "print((a))\n",
        "\n",
        "b=np.zeros(3)\n",
        "c=np.ones(3)\n",
        "print(b)\n",
        "print(c)\n",
        "d=np.sort(a)\n",
        "print(d)"
      ],
      "metadata": {
        "colab": {
          "base_uri": "https://localhost:8080/"
        },
        "id": "JiBzuHRbefdI",
        "outputId": "cfc9f317-2e62-47ef-df66-d175ed8fca2f"
      },
      "execution_count": null,
      "outputs": [
        {
          "output_type": "stream",
          "name": "stdout",
          "text": [
            "<class 'numpy.ndarray'>\n",
            "[35  1  5  9  3]\n",
            "[0. 0. 0.]\n",
            "[1. 1. 1.]\n",
            "[ 1  3  5  9 35]\n"
          ]
        }
      ]
    },
    {
      "cell_type": "markdown",
      "source": [
        "**packege 2 matplotlib**"
      ],
      "metadata": {
        "id": "mHVmZFpdhazW"
      }
    },
    {
      "cell_type": "code",
      "source": [
        "import matplotlib\n",
        "print(matplotlib.__version__)"
      ],
      "metadata": {
        "colab": {
          "base_uri": "https://localhost:8080/"
        },
        "id": "xhFVrFO0e40x",
        "outputId": "08534edb-2846-42a5-d2c6-2a01045d3fc1"
      },
      "execution_count": null,
      "outputs": [
        {
          "output_type": "stream",
          "name": "stdout",
          "text": [
            "3.7.1\n"
          ]
        }
      ]
    },
    {
      "cell_type": "code",
      "source": [
        "import matplotlib.pyplot as plt\n",
        "import numpy as np\n",
        "\n",
        "x=np.linspace(0,1,10) #lin means linear space\n",
        "m=0.6\n",
        "c=0\n",
        "y=m*x+c\n",
        "plt.plot(x,y)\n",
        "plt.show\n",
        "\n"
      ],
      "metadata": {
        "colab": {
          "base_uri": "https://localhost:8080/",
          "height": 447
        },
        "id": "dayQyc96kWAg",
        "outputId": "7009c554-c713-4a59-a6d9-eadd093373c4"
      },
      "execution_count": null,
      "outputs": [
        {
          "output_type": "execute_result",
          "data": {
            "text/plain": [
              "<function matplotlib.pyplot.show(close=None, block=None)>"
            ]
          },
          "metadata": {},
          "execution_count": 5
        },
        {
          "output_type": "display_data",
          "data": {
            "text/plain": [
              "<Figure size 640x480 with 1 Axes>"
            ],
            "image/png": "[encoded data removed]"
          },
          "metadata": {}
        }
      ]
    },
    {
      "cell_type": "code",
      "source": [
        "import matplotlib.pyplot as plt\n",
        "import numpy as np\n",
        "\n",
        "# make data\n",
        "x = np.linspace(1,5,100) # 1 is for initial point of wave,  and 5 is the  end point of wave ,100 i don't know\n",
        "y= 4+2* np.sin(4*x)\n",
        "\n",
        "# plot\n",
        "fig,a=plt.subplots()\n",
        "a.plot(x,y,linewidth=1.0)\n",
        "a. set(xlim=(0,10), xticks=np.arange(1,10),\n",
        "        ylim=(0,10), yticks=np.arange(1,10))\n",
        "plt.show()"
      ],
      "metadata": {
        "colab": {
          "base_uri": "https://localhost:8080/",
          "height": 430
        },
        "id": "QF9MF3ZwlVmU",
        "outputId": "54873e18-d5ca-4331-b1c8-36c392083cf9"
      },
      "execution_count": null,
      "outputs": [
        {
          "output_type": "display_data",
          "data": {
            "text/plain": [
              "<Figure size 640x480 with 1 Axes>"
            ],
            "image/png": "[encoded data removed]"
          },
          "metadata": {}
        }
      ]
    },
    {
      "cell_type": "code",
      "source": [],
      "metadata": {
        "id": "wO3hGwJTmaEC"
      },
      "execution_count": null,
      "outputs": []
    }
  ]
}