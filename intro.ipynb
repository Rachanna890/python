{
  "nbformat": 4,
  "nbformat_minor": 0,
  "metadata": {
    "colab": {
      "provenance": []
    },
    "kernelspec": {
      "name": "python3",
      "display_name": "Python 3"
    },
    "language_info": {
      "name": "python"
    }
  },
  "cells": [
    {
      "cell_type": "code",
      "execution_count": null,
      "metadata": {
        "id": "X5tJ7giHVtNS"
      },
      "outputs": [],
      "source": []
    },
    {
      "cell_type": "markdown",
      "source": [
        "name print"
      ],
      "metadata": {
        "id": "6DUWhCLPV-D0"
      }
    },
    {
      "cell_type": "code",
      "source": [
        "print(\"iam rachanna\")"
      ],
      "metadata": {
        "colab": {
          "base_uri": "https://localhost:8080/"
        },
        "id": "qo3hEurtWDli",
        "outputId": "702c734e-828c-40c9-b748-3b230471acb4"
      },
      "execution_count": null,
      "outputs": [
        {
          "output_type": "stream",
          "name": "stdout",
          "text": [
            "iam rachanna\n"
          ]
        }
      ]
    },
    {
      "cell_type": "code",
      "source": [
        "#addition\n",
        "\n",
        "a=4\n",
        "b=4\n",
        "sum=a+b\n",
        "print(\"sum of two numbers\")\n",
        "print(sum)"
      ],
      "metadata": {
        "colab": {
          "base_uri": "https://localhost:8080/"
        },
        "id": "Q2dH0RHHWjq3",
        "outputId": "680bcc54-977f-45da-fd86-c71e00c90de8"
      },
      "execution_count": null,
      "outputs": [
        {
          "output_type": "stream",
          "name": "stdout",
          "text": [
            "sum of two numbers\n",
            "8\n"
          ]
        }
      ]
    },
    {
      "cell_type": "markdown",
      "source": [
        "**substraction**"
      ],
      "metadata": {
        "id": "VyywTUmyZ3xc"
      }
    },
    {
      "cell_type": "code",
      "source": [
        "a=4\n",
        "b=3\n",
        "diff=a-b\n",
        "print(diff)"
      ],
      "metadata": {
        "colab": {
          "base_uri": "https://localhost:8080/"
        },
        "id": "KBpG_2RdZ9FL",
        "outputId": "bf169a88-07e5-4ba7-e0ea-d3064648181b"
      },
      "execution_count": null,
      "outputs": [
        {
          "output_type": "stream",
          "name": "stdout",
          "text": [
            "1\n"
          ]
        }
      ]
    },
    {
      "cell_type": "markdown",
      "source": [
        "multiphlication"
      ],
      "metadata": {
        "id": "IExYvSMoaaXw"
      }
    },
    {
      "cell_type": "code",
      "source": [
        "a=4\n",
        "b=4\n",
        "product=a*b\n",
        "print(product)"
      ],
      "metadata": {
        "colab": {
          "base_uri": "https://localhost:8080/"
        },
        "id": "Bji8xEf2ae8W",
        "outputId": "5b770ef1-d931-43fe-934e-4d661cb191ea"
      },
      "execution_count": null,
      "outputs": [
        {
          "output_type": "stream",
          "name": "stdout",
          "text": [
            "16\n"
          ]
        }
      ]
    },
    {
      "cell_type": "markdown",
      "source": [
        "division"
      ],
      "metadata": {
        "id": "gYBFkOVCasT4"
      }
    },
    {
      "cell_type": "code",
      "source": [
        "a=6\n",
        "b=4\n",
        "div=a/b\n",
        "mod=a%b\n",
        "print(div)\n",
        "print(mod)"
      ],
      "metadata": {
        "colab": {
          "base_uri": "https://localhost:8080/"
        },
        "id": "r2r3vKz2axsn",
        "outputId": "cecc48e3-f9fd-440d-da89-b4a76f34d7c6"
      },
      "execution_count": null,
      "outputs": [
        {
          "output_type": "stream",
          "name": "stdout",
          "text": [
            "1.5\n",
            "2\n"
          ]
        }
      ]
    },
    {
      "cell_type": "markdown",
      "source": [
        "square of number"
      ],
      "metadata": {
        "id": "R_r-U-bodVb-"
      }
    },
    {
      "cell_type": "code",
      "source": [
        "number=4\n",
        "square=number**2\n",
        "print(\"square of the number\",square)"
      ],
      "metadata": {
        "colab": {
          "base_uri": "https://localhost:8080/"
        },
        "id": "_ff4B4RNdZFL",
        "outputId": "90aea67a-0ac5-4470-9e12-4023841b91e2"
      },
      "execution_count": null,
      "outputs": [
        {
          "output_type": "stream",
          "name": "stdout",
          "text": [
            "square of the number 16\n"
          ]
        }
      ]
    },
    {
      "cell_type": "markdown",
      "source": [
        "square of number using pow functon"
      ],
      "metadata": {
        "id": "Kdg2HPEbesfW"
      }
    },
    {
      "cell_type": "code",
      "source": [
        "num=4\n",
        "square=pow(num,2)\n",
        "print(\"square\",square)"
      ],
      "metadata": {
        "colab": {
          "base_uri": "https://localhost:8080/"
        },
        "id": "T1vJhcbGex23",
        "outputId": "733f3f31-cd5f-4778-d31c-ff1b2eabcf61"
      },
      "execution_count": null,
      "outputs": [
        {
          "output_type": "stream",
          "name": "stdout",
          "text": [
            "square 16\n"
          ]
        }
      ]
    },
    {
      "cell_type": "markdown",
      "source": [
        "finding the square root of number"
      ],
      "metadata": {
        "id": "lc3WOD3bfSk9"
      }
    },
    {
      "cell_type": "code",
      "source": [
        "number = 16\n",
        "square_root = number ** 0.5\n",
        "\n",
        "print(square_root)\n"
      ],
      "metadata": {
        "id": "FWcrJV9xfbCj",
        "colab": {
          "base_uri": "https://localhost:8080/"
        },
        "outputId": "ca26dae7-88ff-4476-e5de-dd89a71d3f19"
      },
      "execution_count": null,
      "outputs": [
        {
          "output_type": "stream",
          "name": "stdout",
          "text": [
            "4.0\n"
          ]
        }
      ]
    },
    {
      "cell_type": "markdown",
      "source": [
        "diffrent"
      ],
      "metadata": {
        "id": "32sC3WhkjRsY"
      }
    },
    {
      "cell_type": "code",
      "source": [
        "a=4\n",
        "b=4\n",
        "c=2\n",
        "ans=((a+b)*c)\n",
        "print(ans)"
      ],
      "metadata": {
        "colab": {
          "base_uri": "https://localhost:8080/"
        },
        "id": "cU7s1GVzjd6j",
        "outputId": "6e38e476-7359-4905-aab5-7bef2b3501e8"
      },
      "execution_count": null,
      "outputs": [
        {
          "output_type": "stream",
          "name": "stdout",
          "text": [
            "16\n"
          ]
        }
      ]
    },
    {
      "cell_type": "code",
      "source": [],
      "metadata": {
        "id": "wHmXSBkKjsxl"
      },
      "execution_count": null,
      "outputs": []
    },
    {
      "cell_type": "markdown",
      "source": [
        "data types"
      ],
      "metadata": {
        "id": "xpQlT0jmAbtw"
      }
    },
    {
      "cell_type": "code",
      "source": [
        "name=\"rachu\"\n",
        "print(type(name))"
      ],
      "metadata": {
        "colab": {
          "base_uri": "https://localhost:8080/"
        },
        "id": "S_rbmaOXAilm",
        "outputId": "a5fe2c28-7934-4391-8449-28ff264575b4"
      },
      "execution_count": null,
      "outputs": [
        {
          "output_type": "stream",
          "name": "stdout",
          "text": [
            "<class 'str'>\n"
          ]
        }
      ]
    },
    {
      "cell_type": "code",
      "source": [
        "num1=5\n",
        "num2=2.5\n",
        "num3=\"rr\"\n",
        "num4=5j\n",
        "num5=-8\n",
        "print(type(num1))\n",
        "print(type(num2))\n",
        "print(type(num3))\n",
        "print(type(num4))\n",
        "print(type(num5))"
      ],
      "metadata": {
        "colab": {
          "base_uri": "https://localhost:8080/"
        },
        "id": "m1UsXDejArNk",
        "outputId": "9476f47e-a018-4944-9e6e-75cdea58b6b8"
      },
      "execution_count": null,
      "outputs": [
        {
          "output_type": "stream",
          "name": "stdout",
          "text": [
            "<class 'int'>\n",
            "<class 'float'>\n",
            "<class 'str'>\n",
            "<class 'complex'>\n",
            "<class 'int'>\n"
          ]
        }
      ]
    },
    {
      "cell_type": "code",
      "source": [],
      "metadata": {
        "id": "63cOJPgTBaBZ"
      },
      "execution_count": null,
      "outputs": []
    },
    {
      "cell_type": "markdown",
      "source": [
        "list datatypes"
      ],
      "metadata": {
        "id": "lJplTw46FgaO"
      }
    },
    {
      "cell_type": "code",
      "source": [
        "lis=['rachu','123','30.45','rachu']\n",
        "type(lis)"
      ],
      "metadata": {
        "colab": {
          "base_uri": "https://localhost:8080/"
        },
        "id": "rmog84ttFke8",
        "outputId": "72a5c8f7-e125-4ef9-bff3-6931b6ebaa29"
      },
      "execution_count": null,
      "outputs": [
        {
          "output_type": "execute_result",
          "data": {
            "text/plain": [
              "list"
            ]
          },
          "metadata": {},
          "execution_count": 17
        }
      ]
    },
    {
      "cell_type": "code",
      "source": [
        "print(lis)"
      ],
      "metadata": {
        "colab": {
          "base_uri": "https://localhost:8080/"
        },
        "id": "st7VlHK1F9ui",
        "outputId": "034c0781-66ca-448f-958c-17dde2cd1f86"
      },
      "execution_count": null,
      "outputs": [
        {
          "output_type": "stream",
          "name": "stdout",
          "text": [
            "['rachu', '123', '30.45', 'rachu']\n"
          ]
        }
      ]
    },
    {
      "cell_type": "code",
      "source": [
        "lis2=['app','20','india']\n",
        "print(len(lis))\n",
        "print(len(lis2))\n",
        "lis3=lis+lis2\n",
        "print(lis3)\n",
        "print(len(lis3))"
      ],
      "metadata": {
        "colab": {
          "base_uri": "https://localhost:8080/"
        },
        "id": "q0UpxgAWGBxz",
        "outputId": "dd293019-657a-4d6b-9c91-a01c0fd206c0"
      },
      "execution_count": null,
      "outputs": [
        {
          "output_type": "stream",
          "name": "stdout",
          "text": [
            "4\n",
            "3\n",
            "['rachu', '123', '30.45', 'rachu', 'app', '20', 'india']\n",
            "7\n"
          ]
        }
      ]
    },
    {
      "cell_type": "code",
      "source": [
        "lis2.append(\"hubli\")\n",
        "lis2"
      ],
      "metadata": {
        "colab": {
          "base_uri": "https://localhost:8080/"
        },
        "id": "KEogrNuKGS9v",
        "outputId": "67ef5071-fadb-49f3-ae19-423f8314fd59"
      },
      "execution_count": null,
      "outputs": [
        {
          "output_type": "execute_result",
          "data": {
            "text/plain": [
              "['app', '20', 'india', 'hubli', 'hubli']"
            ]
          },
          "metadata": {},
          "execution_count": 21
        }
      ]
    },
    {
      "cell_type": "code",
      "source": [
        "lis2.sort()\n",
        "lis2"
      ],
      "metadata": {
        "colab": {
          "base_uri": "https://localhost:8080/"
        },
        "id": "xv60kfVbIH44",
        "outputId": "697e979b-1e59-48af-e935-1f179285e4a7"
      },
      "execution_count": null,
      "outputs": [
        {
          "output_type": "execute_result",
          "data": {
            "text/plain": [
              "['20', 'app', 'hubli', 'hubli', 'india']"
            ]
          },
          "metadata": {},
          "execution_count": 22
        }
      ]
    },
    {
      "cell_type": "code",
      "source": [],
      "metadata": {
        "id": "9mOMwgCxJbmQ"
      },
      "execution_count": null,
      "outputs": []
    },
    {
      "cell_type": "markdown",
      "source": [
        " tuples"
      ],
      "metadata": {
        "id": "mSr7-1kwKBrj"
      }
    },
    {
      "cell_type": "code",
      "source": [
        "tuple1=(\"r\",\"t\")\n",
        "print(type(tuple1))"
      ],
      "metadata": {
        "colab": {
          "base_uri": "https://localhost:8080/"
        },
        "id": "PXLgiixHKGqF",
        "outputId": "47cbd058-b6db-4df6-83b9-ec13ceded0e6"
      },
      "execution_count": null,
      "outputs": [
        {
          "output_type": "stream",
          "name": "stdout",
          "text": [
            "<class 'tuple'>\n"
          ]
        }
      ]
    },
    {
      "cell_type": "code",
      "source": [],
      "metadata": {
        "id": "DBYnT5OrKyTd"
      },
      "execution_count": null,
      "outputs": []
    },
    {
      "cell_type": "markdown",
      "source": [
        "assignment 5 programs"
      ],
      "metadata": {
        "id": "D9KbJ42OyIdf"
      }
    },
    {
      "cell_type": "code",
      "source": [
        "#program 1\n",
        "l=[1,3,5,7,9]\n",
        "print(type(l))\n",
        "print(l[2])"
      ],
      "metadata": {
        "colab": {
          "base_uri": "https://localhost:8080/"
        },
        "id": "QxC0dBY9yL0g",
        "outputId": "b7fc9a48-e8c5-4963-f695-9e6b6088c310"
      },
      "execution_count": 1,
      "outputs": [
        {
          "output_type": "stream",
          "name": "stdout",
          "text": [
            "<class 'list'>\n",
            "5\n"
          ]
        }
      ]
    },
    {
      "cell_type": "code",
      "source": [
        "#program 2\n",
        "l=[2,3,\"hello\",[3,4,5]]\n",
        "print(l[2])\n"
      ],
      "metadata": {
        "colab": {
          "base_uri": "https://localhost:8080/"
        },
        "id": "XYEGhtQeydRa",
        "outputId": "4c6e7639-0c3e-4a2f-c8c8-5f992a8d33d6"
      },
      "execution_count": 2,
      "outputs": [
        {
          "output_type": "stream",
          "name": "stdout",
          "text": [
            "hello\n"
          ]
        }
      ]
    },
    {
      "cell_type": "code",
      "source": [
        "#program 3\n",
        "l=[1,2,3,[4,5,6]]\n",
        "print(l[3] [1])"
      ],
      "metadata": {
        "colab": {
          "base_uri": "https://localhost:8080/"
        },
        "id": "DnUo3mWdy5jz",
        "outputId": "fe3ca819-f0b7-4f8c-da11-d559d8f575d1"
      },
      "execution_count": 4,
      "outputs": [
        {
          "output_type": "stream",
          "name": "stdout",
          "text": [
            "5\n"
          ]
        }
      ]
    },
    {
      "cell_type": "code",
      "source": [
        "# program 4\n",
        "#triple argument\n",
        "l=[1,2,3,4,5,6]\n",
        "print(l[1 :])"
      ],
      "metadata": {
        "colab": {
          "base_uri": "https://localhost:8080/"
        },
        "id": "Y1CzmcTEzJzF",
        "outputId": "1bcefa85-c641-4b16-f5c8-208472c7acc1"
      },
      "execution_count": 8,
      "outputs": [
        {
          "output_type": "stream",
          "name": "stdout",
          "text": [
            "[2, 3, 4, 5, 6]\n"
          ]
        }
      ]
    },
    {
      "cell_type": "code",
      "source": [
        "# program 5\n",
        "l=[2,3,4,5,6]\n",
        "print(l[0 :3])"
      ],
      "metadata": {
        "colab": {
          "base_uri": "https://localhost:8080/"
        },
        "id": "nETlaYIWzkqa",
        "outputId": "98682636-8269-4023-f78e-1588db96eaf4"
      },
      "execution_count": 13,
      "outputs": [
        {
          "output_type": "stream",
          "name": "stdout",
          "text": [
            "[2, 3, 4]\n"
          ]
        }
      ]
    },
    {
      "cell_type": "code",
      "source": [],
      "metadata": {
        "id": "IupihcUz2fE6"
      },
      "execution_count": null,
      "outputs": []
    },
    {
      "cell_type": "markdown",
      "source": [
        "1.how do we access elements in tuple\n",
        "2.join tuples\n",
        "3.multlipe tuples\n",
        "4.indexing\n",
        "5.counting\n",
        "\n",
        "\n",
        "\n",
        "\n"
      ],
      "metadata": {
        "id": "0PKkYmWs35-p"
      }
    },
    {
      "cell_type": "code",
      "source": [
        "tuple1=(\"hubli\",\"belgum\",\"hubli\")\n",
        "\n",
        "print(tuple1[1])\n",
        "print(tuple1[-1])"
      ],
      "metadata": {
        "colab": {
          "base_uri": "https://localhost:8080/"
        },
        "id": "Q_QpQTvr4Kxi",
        "outputId": "fdf50baf-e8f1-4fde-d40b-61b76b264ac4"
      },
      "execution_count": 18,
      "outputs": [
        {
          "output_type": "stream",
          "name": "stdout",
          "text": [
            "belgum\n",
            "hubli\n"
          ]
        }
      ]
    },
    {
      "cell_type": "code",
      "source": [
        "tuple6=tuple1+tuple2\n",
        "print(tuple6)\n",
        "y=tuple6.index(\"hubli\")\n",
        "print(y)\n",
        "x=tuple6.count(\"hubli\")\n",
        "print(x)"
      ],
      "metadata": {
        "colab": {
          "base_uri": "https://localhost:8080/"
        },
        "id": "5UxoSuIu4eux",
        "outputId": "f9e73ed6-3e5c-40de-996a-6d751bd44c0b"
      },
      "execution_count": 22,
      "outputs": [
        {
          "output_type": "stream",
          "name": "stdout",
          "text": [
            "('hubli', 'belgum', 'hubli', 'hubli')\n",
            "0\n",
            "3\n"
          ]
        }
      ]
    },
    {
      "cell_type": "code",
      "source": [],
      "metadata": {
        "id": "jYegfe7_44V_"
      },
      "execution_count": null,
      "outputs": []
    },
    {
      "cell_type": "markdown",
      "source": [
        "adding element to a tuple\n",
        "\n",
        "\n"
      ],
      "metadata": {
        "id": "UF_Zq4c46Iyo"
      }
    },
    {
      "cell_type": "code",
      "source": [
        "\n",
        "\n",
        "x=(\"belgavi\",\"gokak\",\"belgavi\")\n",
        "print(type(tuple))\n",
        "\n",
        "y=list(x)\n",
        "y[2]=\"hubli\"\n",
        "x= tuple(y)\n",
        "print(x)\n"
      ],
      "metadata": {
        "colab": {
          "base_uri": "https://localhost:8080/"
        },
        "id": "cP2BMzrI6Lzs",
        "outputId": "76566171-eb32-4125-f1ae-59b284416b7f"
      },
      "execution_count": 23,
      "outputs": [
        {
          "output_type": "stream",
          "name": "stdout",
          "text": [
            "<class 'type'>\n",
            "('belgavi', 'gokak', 'hubli')\n"
          ]
        }
      ]
    },
    {
      "cell_type": "code",
      "source": [],
      "metadata": {
        "id": "rIiub6Ha6OMX"
      },
      "execution_count": null,
      "outputs": []
    },
    {
      "cell_type": "markdown",
      "source": [
        "# **sets**\n",
        "# 1. unordered\n",
        "# 2.unchangeable\n",
        "# 3. duplicates r not allowed\n"
      ],
      "metadata": {
        "id": "WLAJ1CTK6fRE"
      }
    },
    {
      "cell_type": "code",
      "source": [
        "set1={\"red\",\"black\",\"blue\",\"red\"}\n",
        "print(set1)\n",
        "set1.add('orange')\n",
        "print(set1)\n",
        "set2={\"ball\",\"bat\",\"cat\"}\n",
        "set1.update(set2)\n",
        "print(set1)\n"
      ],
      "metadata": {
        "colab": {
          "base_uri": "https://localhost:8080/"
        },
        "id": "k8NCSjmu61d5",
        "outputId": "f38e712a-235f-4737-af9c-978e3a88b5b8"
      },
      "execution_count": 24,
      "outputs": [
        {
          "output_type": "stream",
          "name": "stdout",
          "text": [
            "{'blue', 'black', 'red'}\n",
            "{'orange', 'blue', 'black', 'red'}\n",
            "{'blue', 'red', 'ball', 'orange', 'black', 'bat', 'cat'}\n"
          ]
        }
      ]
    },
    {
      "cell_type": "code",
      "source": [],
      "metadata": {
        "id": "1mfnq3Ww69tc"
      },
      "execution_count": null,
      "outputs": []
    },
    {
      "cell_type": "markdown",
      "source": [
        "## **dictionaries**\n"
      ],
      "metadata": {
        "id": "bjFIsGeS7Klg"
      }
    },
    {
      "cell_type": "code",
      "source": [
        "Dict1= {\"name\":\"rachu\",\n",
        "       \"age\":\"20\",\n",
        "       \"gender\":\"male\"}\n",
        "print(Dict1)\n",
        "\n",
        "print(type(Dict1))\n",
        "\n",
        "dict2= dict(fruit=\"mango\",dessert=\"ice\")\n",
        "print(dict2)\n",
        "print(type(dict2))\n"
      ],
      "metadata": {
        "colab": {
          "base_uri": "https://localhost:8080/"
        },
        "id": "mhElABgM7LWY",
        "outputId": "661354a5-abdb-4474-f745-0b52cf93958b"
      },
      "execution_count": 25,
      "outputs": [
        {
          "output_type": "stream",
          "name": "stdout",
          "text": [
            "{'name': 'rachu', 'age': '20', 'gender': 'male'}\n",
            "<class 'dict'>\n",
            "{'fruit': 'mango', 'dessert': 'ice'}\n",
            "<class 'dict'>\n"
          ]
        }
      ]
    },
    {
      "cell_type": "code",
      "source": [],
      "metadata": {
        "id": "1CvxneH97TDM"
      },
      "execution_count": null,
      "outputs": []
    },
    {
      "cell_type": "markdown",
      "source": [
        "# *conditional statements*\n"
      ],
      "metadata": {
        "id": "M4Va2LgN7f0Z"
      }
    },
    {
      "cell_type": "code",
      "source": [
        "a=input(\"enter the value of a\")\n",
        "b=input(\"enter the value of b\")\n",
        "print(a)\n",
        "print(b)\n",
        "\n",
        "\n",
        "\n",
        "\n",
        "if a>b:\n",
        "  print(\"the value of a is grater than b\")\n",
        "if  a==b:\n",
        "  print(\"both a and b are same\")\n",
        "else:\n",
        "    print(a<b)\n"
      ],
      "metadata": {
        "colab": {
          "base_uri": "https://localhost:8080/"
        },
        "id": "YemJENH-7go8",
        "outputId": "0e00ec17-c5dd-4f12-f670-5bf3199ba9e0"
      },
      "execution_count": 26,
      "outputs": [
        {
          "output_type": "stream",
          "name": "stdout",
          "text": [
            "enter the value of a5\n",
            "enter the value of b6\n",
            "5\n",
            "6\n",
            "True\n"
          ]
        }
      ]
    },
    {
      "cell_type": "code",
      "source": [],
      "metadata": {
        "id": "BisiBeaj7jXd"
      },
      "execution_count": null,
      "outputs": []
    },
    {
      "cell_type": "markdown",
      "source": [
        "# **elif**\n",
        "\n"
      ],
      "metadata": {
        "id": "zLr8Pi0u7yjX"
      }
    },
    {
      "cell_type": "code",
      "source": [
        "ball1_colour=\"green\"\n",
        "ball2_colour=\"blue\"\n",
        "ball3_colour=\"red\"\n",
        "ball4_colour=\"white\"\n",
        "\n",
        "pick_ball=input(\"please pick a ball\")\n",
        "\n",
        "if pick_ball == ball1_colour:\n",
        "  print(\"green ball is picked\")\n",
        "\n",
        "elif pick_ball == ball2_colour:\n",
        "  print(\"blue ball is picked\")\n",
        "\n",
        "elif pick_ball == ball3_colour:\n",
        "  print(\"red ball is picked\")\n",
        "\n",
        "else:\n",
        "  print(\"white ball is picked\")\n"
      ],
      "metadata": {
        "colab": {
          "base_uri": "https://localhost:8080/"
        },
        "id": "tLGbnnvr7zbO",
        "outputId": "4811824f-1606-415e-e1e5-d2d36628deac"
      },
      "execution_count": 27,
      "outputs": [
        {
          "output_type": "stream",
          "name": "stdout",
          "text": [
            "please pick a ballgreen\n",
            "green ball is picked\n"
          ]
        }
      ]
    },
    {
      "cell_type": "markdown",
      "source": [],
      "metadata": {
        "id": "eGpLYLNt8RH5"
      }
    },
    {
      "cell_type": "code",
      "source": [],
      "metadata": {
        "id": "Ediiv7H18NqQ"
      },
      "execution_count": null,
      "outputs": []
    },
    {
      "cell_type": "markdown",
      "source": [
        "operators\n",
        "arthimetic operators"
      ],
      "metadata": {
        "id": "NeLy_4Ka8TmD"
      }
    },
    {
      "cell_type": "code",
      "source": [
        "x=12\n",
        "y=4\n",
        "\n",
        "sum=x+y\n",
        "diff=x-y\n",
        "mul=x*y\n",
        "div=x/y\n",
        "fdiv=x//y\n",
        "mod=x%y\n",
        "power=x**y\n",
        "print(sum)\n",
        "print(diff)\n",
        "print(mul)\n",
        "print(div)\n",
        "print(fdiv)\n",
        "print(mod)\n",
        "print(power)\n"
      ],
      "metadata": {
        "colab": {
          "base_uri": "https://localhost:8080/"
        },
        "id": "L9HmC-0T8YDR",
        "outputId": "7cd4df19-4dab-4e11-8769-8189b57cdc31"
      },
      "execution_count": 30,
      "outputs": [
        {
          "output_type": "stream",
          "name": "stdout",
          "text": [
            "16\n",
            "8\n",
            "48\n",
            "3.0\n",
            "3\n",
            "0\n",
            "20736\n"
          ]
        }
      ]
    },
    {
      "cell_type": "code",
      "source": [],
      "metadata": {
        "id": "l2EcDfTd8biA"
      },
      "execution_count": null,
      "outputs": []
    },
    {
      "cell_type": "markdown",
      "source": [
        "example for comparision operators"
      ],
      "metadata": {
        "id": "BiRIjlpw8o_Z"
      }
    },
    {
      "cell_type": "code",
      "source": [
        "age=int(input(\"enter the age\"))\n",
        "print(age>18 and age<60)\n",
        "print(age>18 or age<21)\n"
      ],
      "metadata": {
        "colab": {
          "base_uri": "https://localhost:8080/"
        },
        "id": "EzITFqi48vms",
        "outputId": "9187254a-51b1-43cf-f9ef-7ea02df82407"
      },
      "execution_count": 31,
      "outputs": [
        {
          "output_type": "stream",
          "name": "stdout",
          "text": [
            "enter the age9\n",
            "False\n",
            "True\n"
          ]
        }
      ]
    },
    {
      "cell_type": "code",
      "source": [],
      "metadata": {
        "id": "eD0KkpAv8yeT"
      },
      "execution_count": null,
      "outputs": []
    }
  ]
}